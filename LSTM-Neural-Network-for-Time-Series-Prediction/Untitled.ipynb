{
 "cells": [
  {
   "cell_type": "code",
   "execution_count": 1,
   "metadata": {},
   "outputs": [],
   "source": [
    "import pandas as pd\n",
    "import matplotlib as plt"
   ]
  },
  {
   "cell_type": "code",
   "execution_count": 31,
   "metadata": {},
   "outputs": [
    {
     "data": {
      "text/html": [
       "<div>\n",
       "<style scoped>\n",
       "    .dataframe tbody tr th:only-of-type {\n",
       "        vertical-align: middle;\n",
       "    }\n",
       "\n",
       "    .dataframe tbody tr th {\n",
       "        vertical-align: top;\n",
       "    }\n",
       "\n",
       "    .dataframe thead th {\n",
       "        text-align: right;\n",
       "    }\n",
       "</style>\n",
       "<table border=\"1\" class=\"dataframe\">\n",
       "  <thead>\n",
       "    <tr style=\"text-align: right;\">\n",
       "      <th></th>\n",
       "      <th>Open</th>\n",
       "      <th>Date</th>\n",
       "    </tr>\n",
       "  </thead>\n",
       "  <tbody>\n",
       "    <tr>\n",
       "      <th>0</th>\n",
       "      <td>3550</td>\n",
       "      <td>2009-3-30</td>\n",
       "    </tr>\n",
       "    <tr>\n",
       "      <th>1</th>\n",
       "      <td>3538</td>\n",
       "      <td>2009-3-31</td>\n",
       "    </tr>\n",
       "    <tr>\n",
       "      <th>2</th>\n",
       "      <td>3560</td>\n",
       "      <td>2009-4-1</td>\n",
       "    </tr>\n",
       "  </tbody>\n",
       "</table>\n",
       "</div>"
      ],
      "text/plain": [
       "   Open       Date\n",
       "0  3550  2009-3-30\n",
       "1  3538  2009-3-31\n",
       "2  3560   2009-4-1"
      ]
     },
     "execution_count": 31,
     "metadata": {},
     "output_type": "execute_result"
    }
   ],
   "source": [
    "df = pd.read_csv(\"./data/my.csv\")\n",
    "data=df.get([\"Open\", \"Date\"])[:3]\n",
    "data"
   ]
  },
  {
   "cell_type": "code",
   "execution_count": 33,
   "metadata": {},
   "outputs": [
    {
     "data": {
      "text/plain": [
       "<matplotlib.axes._subplots.AxesSubplot at 0x233d3eaef60>"
      ]
     },
     "execution_count": 33,
     "metadata": {},
     "output_type": "execute_result"
    },
    {
     "data": {
      "image/png": "[encoded data removed]",
      "text/plain": [
       "<Figure size 432x288 with 1 Axes>"
      ]
     },
     "metadata": {},
     "output_type": "display_data"
    }
   ],
   "source": [
    "data.plot(x=\"Date\", y=\"Open\")"
   ]
  },
  {
   "cell_type": "code",
   "execution_count": 46,
   "metadata": {},
   "outputs": [
    {
     "data": {
      "text/plain": [
       "[<matplotlib.lines.Line2D at 0x233d3a057f0>]"
      ]
     },
     "execution_count": 46,
     "metadata": {},
     "output_type": "execute_result"
    },
    {
     "data": {
      "image/png": "[encoded data removed]",
      "text/plain": [
       "<Figure size 432x288 with 1 Axes>"
      ]
     },
     "metadata": {},
     "output_type": "display_data"
    }
   ],
   "source": [
    "import matplotlib.pyplot as plt\n",
    "import matplotlib.ticker as ticker\n",
    "\n",
    "\n",
    "fig,ax  = plt.subplots(1,1)\n",
    "plt.xticks(rotation=-45)   # 设置横坐标显示的角度，角度是逆时针\n",
    "# tick_spacing = 3    # 设置密度，比如横坐标9个，设置这个为3,到时候横坐标上就显示 9/3=3个横坐标，\n",
    "\n",
    "y_list = [3550,2538,3560]\n",
    "x_list =[\"2009-3-30\", \"2009-3-31\", \"2009-4-2\"]\n",
    "ax.plot(x_list,y_list)\n",
    "# ax.xaxis.set_major_locator(ticker.MultipleLocator(tick_spacing))"
   ]
  },
  {
   "cell_type": "code",
   "execution_count": 42,
   "metadata": {},
   "outputs": [
    {
     "data": {
      "text/plain": [
       "array([[ 0.00000000e+00,  0.00000000e+00,  0.00000000e+00,\n",
       "         0.00000000e+00,  0.00000000e+00,  0.00000000e+00,\n",
       "         0.00000000e+00],\n",
       "       [-3.38028169e-03,  1.41083521e-03, -3.91061453e-03,\n",
       "         8.50340136e-04, -5.13722032e-01, -5.13534763e-01,\n",
       "        -2.77773017e-04],\n",
       "       [ 2.81690141e-03,  8.46501129e-04, -5.30726257e-03,\n",
       "         4.25170068e-03, -8.06431169e-01, -8.06361678e-01,\n",
       "        -5.82601301e-04],\n",
       "       [-1.40845070e-03, -2.00338600e-02, -8.93854749e-03,\n",
       "        -2.04081633e-02,  6.21886366e-01,  5.91234030e-01,\n",
       "        -2.83841488e-03],\n",
       "       [-1.94366197e-02, -2.70880361e-02, -2.76536313e-02,\n",
       "        -2.60770975e-02,  4.96528160e-02,  2.24139198e-02,\n",
       "        -5.54829618e-03],\n",
       "       [-3.94366197e-02, -1.49548533e-02, -1.73184358e-02,\n",
       "        -3.34467120e-02,  6.71015651e-01,  6.39923743e-01,\n",
       "        -6.84956176e-03],\n",
       "       [-1.97183099e-02, -2.28555305e-02, -2.48603352e-02,\n",
       "        -2.04081633e-02,  1.46037694e-02, -7.98376266e-03,\n",
       "        -8.77607651e-03],\n",
       "       [-2.08450704e-02, -2.14446953e-02, -2.62569832e-02,\n",
       "        -1.92743764e-02, -3.95955031e-01, -4.08876315e-01,\n",
       "        -1.03853170e-02],\n",
       "       [-1.88732394e-02, -1.69300226e-02, -2.26256983e-02,\n",
       "        -1.64399093e-02, -1.66634520e-01, -1.81545412e-01,\n",
       "        -1.14132204e-02],\n",
       "       [-1.83098592e-02, -2.11625282e-02, -2.43016760e-02,\n",
       "        -1.81405896e-02, -2.43497189e-01, -2.57846145e-01,\n",
       "        -1.27445474e-02]])"
      ]
     },
     "execution_count": 42,
     "metadata": {},
     "output_type": "execute_result"
    }
   ],
   "source": [
    "ss = data.copy()\n",
    "for column in [\"Open\",\"Close\",\"High\",\"Low\",\"Volume\",\"Money\"]:\n",
    "    ss[column] = data.get([column]).apply(lambda x:x/x[0]-1)\n",
    "# ss[\"EXPMA\"] = data.get([\"EXPMA\"]).apply(lambda x:x/x[0]-1)\n",
    "ss[\"EXPMA\"] = data.get([\"EXPMA\"]).apply(lambda x:(x-x.min())/(x.max()-x.min()))\n",
    "ss.values"
   ]
  },
  {
   "cell_type": "code",
   "execution_count": 41,
   "metadata": {},
   "outputs": [
    {
     "data": {
      "text/plain": [
       "array([[ 0.00000000e+00,  0.00000000e+00,  0.00000000e+00,\n",
       "         0.00000000e+00,  0.00000000e+00,  0.00000000e+00,\n",
       "         0.00000000e+00],\n",
       "       [-3.38028169e-03,  1.41083521e-03, -3.91061453e-03,\n",
       "         8.50340136e-04, -5.13722032e-01, -5.13534763e-01,\n",
       "        -2.77773017e-04],\n",
       "       [ 2.81690141e-03,  8.46501129e-04, -5.30726257e-03,\n",
       "         4.25170068e-03, -8.06431169e-01, -8.06361678e-01,\n",
       "        -5.82601301e-04],\n",
       "       [-1.40845070e-03, -2.00338600e-02, -8.93854749e-03,\n",
       "        -2.04081633e-02,  6.21886366e-01,  5.91234030e-01,\n",
       "        -2.83841488e-03],\n",
       "       [-1.94366197e-02, -2.70880361e-02, -2.76536313e-02,\n",
       "        -2.60770975e-02,  4.96528160e-02,  2.24139198e-02,\n",
       "        -5.54829618e-03],\n",
       "       [-3.94366197e-02, -1.49548533e-02, -1.73184358e-02,\n",
       "        -3.34467120e-02,  6.71015651e-01,  6.39923743e-01,\n",
       "        -6.84956176e-03],\n",
       "       [-1.97183099e-02, -2.28555305e-02, -2.48603352e-02,\n",
       "        -2.04081633e-02,  1.46037694e-02, -7.98376266e-03,\n",
       "        -8.77607651e-03],\n",
       "       [-2.08450704e-02, -2.14446953e-02, -2.62569832e-02,\n",
       "        -1.92743764e-02, -3.95955031e-01, -4.08876315e-01,\n",
       "        -1.03853170e-02],\n",
       "       [-1.88732394e-02, -1.69300226e-02, -2.26256983e-02,\n",
       "        -1.64399093e-02, -1.66634520e-01, -1.81545412e-01,\n",
       "        -1.14132204e-02],\n",
       "       [-1.83098592e-02, -2.11625282e-02, -2.43016760e-02,\n",
       "        -1.81405896e-02, -2.43497189e-01, -2.57846145e-01,\n",
       "        -1.27445474e-02]])"
      ]
     },
     "execution_count": 41,
     "metadata": {},
     "output_type": "execute_result"
    }
   ],
   "source": [
    "data.values / data.values[0] - 1"
   ]
  },
  {
   "cell_type": "code",
   "execution_count": 128,
   "metadata": {},
   "outputs": [
    {
     "data": {
      "text/plain": [
       "array([[ 0.00000000e+00,  0.00000000e+00,  0.00000000e+00,\n",
       "         0.00000000e+00,  0.00000000e+00,  5.57539796e-01],\n",
       "       [-3.38028169e-03,  1.41083521e-03, -3.91061453e-03,\n",
       "         8.50340136e-04, -5.13722032e-01,  2.02468275e-01],\n",
       "       [ 2.81690141e-03,  8.46501129e-04, -5.30726257e-03,\n",
       "         4.25170068e-03, -8.06431169e-01,  0.00000000e+00],\n",
       "       [-1.40845070e-03, -2.00338600e-02, -8.93854749e-03,\n",
       "        -2.04081633e-02,  6.21886366e-01,  9.66334644e-01],\n",
       "       [-1.94366197e-02, -2.70880361e-02, -2.76536313e-02,\n",
       "        -2.60770975e-02,  4.96528160e-02,  5.73037373e-01],\n",
       "       [-3.94366197e-02, -1.49548533e-02, -1.73184358e-02,\n",
       "        -3.34467120e-02,  6.71015651e-01,  1.00000000e+00],\n",
       "       [-1.97183099e-02, -2.28555305e-02, -2.48603352e-02,\n",
       "        -2.04081633e-02,  1.46037694e-02,  5.52019611e-01],\n",
       "       [-2.08450704e-02, -2.14446953e-02, -2.62569832e-02,\n",
       "        -1.92743764e-02, -3.95955031e-01,  2.74831895e-01],\n",
       "       [-1.88732394e-02, -1.69300226e-02, -2.26256983e-02,\n",
       "        -1.64399093e-02, -1.66634520e-01,  4.32014495e-01],\n",
       "       [-1.83098592e-02, -2.11625282e-02, -2.43016760e-02,\n",
       "        -1.81405896e-02, -2.43497189e-01,  3.79258150e-01]])"
      ]
     },
     "execution_count": 128,
     "metadata": {},
     "output_type": "execute_result"
    }
   ],
   "source": [
    "ss=data.values\n",
    "ss[:,0:-1] = ss[:,0:-1] / ss[:,0:-1][0] - 1\n",
    "ss[:,-1] = (ss[:,-1] - ss[:,-1].min())/(ss[:,-1].max() - ss[:,-1].min())\n",
    "# ss[:,-1] = ss[:,-1] / ss[:,-1][0] - 1\n",
    "ss"
   ]
  },
  {
   "cell_type": "code",
   "execution_count": 124,
   "metadata": {},
   "outputs": [
    {
     "data": {
      "text/plain": [
       "array([[ 0.        ,  0.        ,  0.        ,  0.        ,  0.        ,\n",
       "         0.        ],\n",
       "       [-0.00338028,  0.00141084, -0.00391061,  0.00085034, -0.51372203,\n",
       "        -0.51353476],\n",
       "       [ 0.0028169 ,  0.0008465 , -0.00530726,  0.0042517 , -0.80643117,\n",
       "        -0.80636168],\n",
       "       [-0.00140845, -0.02003386, -0.00893855, -0.02040816,  0.62188637,\n",
       "         0.59123403],\n",
       "       [-0.01943662, -0.02708804, -0.02765363, -0.0260771 ,  0.04965282,\n",
       "         0.02241392],\n",
       "       [-0.03943662, -0.01495485, -0.01731844, -0.03344671,  0.67101565,\n",
       "         0.63992374],\n",
       "       [-0.01971831, -0.02285553, -0.02486034, -0.02040816,  0.01460377,\n",
       "        -0.00798376],\n",
       "       [-0.02084507, -0.0214447 , -0.02625698, -0.01927438, -0.39595503,\n",
       "        -0.40887632],\n",
       "       [-0.01887324, -0.01693002, -0.0226257 , -0.01643991, -0.16663452,\n",
       "        -0.18154541],\n",
       "       [-0.01830986, -0.02116253, -0.02430168, -0.01814059, -0.24349719,\n",
       "        -0.25784615]])"
      ]
     },
     "execution_count": 124,
     "metadata": {},
     "output_type": "execute_result"
    }
   ],
   "source": [
    "dd = data.values\n",
    "dd/dd[0] - 1"
   ]
  },
  {
   "cell_type": "code",
   "execution_count": 42,
   "metadata": {},
   "outputs": [],
   "source": [
    "def normalise_windows(window_data, single_window=False):\n",
    "    '''Normalise window with a base value of zero'''\n",
    "    normalised_data = []\n",
    "    window_data = [window_data] if single_window else window_data\n",
    "    for window in window_data:\n",
    "        normalised_window = []\n",
    "        for col_i in range(window.shape[1]):\n",
    "            # 缩放到[-1,1]\n",
    "            diff = window[:, col_i].max() - window[:, col_i].min()\n",
    "#             normalised_col = [((float(p) / float(window[0, col_i])) - 1) for p in window[:, col_i]]\n",
    "            normalised_col = [((float(p) - window[:, col_i].min()) / diff) for p in window[:, col_i]]\n",
    "            normalised_window.append(normalised_col)\n",
    "        normalised_window = np.array(\n",
    "            normalised_window).T  # reshape and transpose array back into original multidimensional format\n",
    "        normalised_data.append(normalised_window)\n",
    "    return np.array(normalised_data)"
   ]
  },
  {
   "cell_type": "code",
   "execution_count": 43,
   "metadata": {},
   "outputs": [
    {
     "data": {
      "text/plain": [
       "array([[3.55000000e+03, 3.54400000e+03, 3.58000000e+03, 3.52800000e+03,\n",
       "        1.45168000e+05, 5.15145324e+09],\n",
       "       [3.53800000e+03, 3.54900000e+03, 3.56600000e+03, 3.53100000e+03,\n",
       "        7.05920000e+04, 2.50600292e+09],\n",
       "       [3.56000000e+03, 3.54700000e+03, 3.56100000e+03, 3.54300000e+03,\n",
       "        2.81000000e+04, 9.97518760e+08],\n",
       "       ...,\n",
       "       [4.25600000e+03, 4.23400000e+03, 4.28200000e+03, 4.20600000e+03,\n",
       "        2.82500200e+06, 1.19876000e+11],\n",
       "       [4.25000000e+03, 4.25600000e+03, 4.29400000e+03, 4.17900000e+03,\n",
       "        3.66871600e+06, 1.55834000e+11],\n",
       "       [4.25600000e+03, 4.38800000e+03, 4.40000000e+03, 4.24700000e+03,\n",
       "        2.64932400e+06, 1.14082000e+11]])"
      ]
     },
     "execution_count": 43,
     "metadata": {},
     "output_type": "execute_result"
    }
   ],
   "source": [
    "data=df.copy()\n",
    "data=data.get([\"Open\",\"Close\",\"High\",\"Low\",\"Volume\",\"Money\"]).values\n",
    "data"
   ]
  },
  {
   "cell_type": "code",
   "execution_count": 45,
   "metadata": {},
   "outputs": [
    {
     "name": "stdout",
     "output_type": "stream",
     "text": [
      "[[[0.5395845  0.53846154 0.54013378 0.53878702 0.00524185 0.00687018]\n",
      "  [0.53621561 0.53986524 0.53623188 0.53963329 0.00190263 0.00249488]\n",
      "  [0.54239191 0.53930376 0.53483835 0.54301834 0.         0.        ]\n",
      "  ...\n",
      "  [0.73778776 0.73217294 0.73578595 0.73004231 0.12523438 0.19661279]\n",
      "  [0.73610331 0.73834924 0.73913043 0.72242595 0.16301261 0.25608363]\n",
      "  [0.73778776 0.77540707 0.76867336 0.7416079  0.1173682  0.18703011]]]\n",
      "0.3095831871032715\n"
     ]
    }
   ],
   "source": [
    "import numpy as np\n",
    "from time import time\n",
    "start = time()\n",
    "tt = normalise_windows(data, True)\n",
    "print(tt)\n",
    "print(time()-start)"
   ]
  },
  {
   "cell_type": "code",
   "execution_count": null,
   "metadata": {},
   "outputs": [],
   "source": [
    "def normalise_windows(window_data, single_window=False):\n",
    "    '''Normalise window with a base value of zero'''\n",
    "    normalised_data = []\n",
    "    window_data = [window_data] if single_window else window_data\n",
    "    for window in window_data:\n",
    "        # normalised_window = []\n",
    "        # for col_i in range(window.shape[1]):\n",
    "        #     # 缩放到[-1,1]\n",
    "        #     # diff = max(window[0, col_i]) - min(window[0, col_i])\n",
    "        #     normalised_col = [((float(p) / float(window[0, col_i]))) for p in window[:, col_i]]\n",
    "        #     # normalised_col = [(2*((float(p) - min(window[0, col_i])) / diff) - 1) for p in window[:, col_i]]\n",
    "        #     normalised_window.append(normalised_col)\n",
    "        # normalised_window = np.array(\n",
    "        #     normalised_window).T  # reshape and transpose array back into original multidimensional format\n",
    "        min_max_scaler = preprocessing.MinMaxScaler()\n",
    "        normalised_window = min_max_scaler.fit_transform(window)\n",
    "        normalised_data.append(normalised_window)\n",
    "    return np.array(normalised_data)"
   ]
  },
  {
   "cell_type": "code",
   "execution_count": 46,
   "metadata": {},
   "outputs": [
    {
     "name": "stdout",
     "output_type": "stream",
     "text": [
      "[[[0.5395845  0.53846154 0.54013378 0.53878702 0.00524185 0.00687018]\n",
      "  [0.53621561 0.53986524 0.53623188 0.53963329 0.00190263 0.00249488]\n",
      "  [0.54239191 0.53930376 0.53483835 0.54301834 0.         0.        ]\n",
      "  ...\n",
      "  [0.73778776 0.73217294 0.73578595 0.73004231 0.12523438 0.19661279]\n",
      "  [0.73610331 0.73834924 0.73913043 0.72242595 0.16301261 0.25608363]\n",
      "  [0.73778776 0.77540707 0.76867336 0.7416079  0.1173682  0.18703011]]]\n",
      "0.2543807029724121\n"
     ]
    }
   ],
   "source": [
    "start = time()\n",
    "from sklearn import preprocessing\n",
    "tt = normalise_windows(data, True)\n",
    "print(tt)\n",
    "print(time()-start)"
   ]
  },
  {
   "cell_type": "code",
   "execution_count": 98,
   "metadata": {},
   "outputs": [
    {
     "data": {
      "text/plain": [
       "<matplotlib.axes._subplots.AxesSubplot at 0x233d3b00828>"
      ]
     },
     "execution_count": 98,
     "metadata": {},
     "output_type": "execute_result"
    },
    {
     "data": {
      "image/png": "[encoded data removed]",
      "text/plain": [
       "<Figure size 432x288 with 1 Axes>"
      ]
     },
     "metadata": {},
     "output_type": "display_data"
    }
   ],
   "source": [
    "import numpy as np\n",
    "df = pd.read_csv(\"./data/RB.SHF.csv\",header=3, index_col=0).loc[\"2020-01-02\":\"2020-12-01\"]\n",
    "df.plot(y=\"Close\")"
   ]
  }
 ],
 "metadata": {
  "kernelspec": {
   "display_name": "Python 3",
   "language": "python",
   "name": "python3"
  },
  "language_info": {
   "codemirror_mode": {
    "name": "ipython",
    "version": 3
   },
   "file_extension": ".py",
   "mimetype": "text/x-python",
   "name": "python",
   "nbconvert_exporter": "python",
   "pygments_lexer": "ipython3",
   "version": "3.5.5"
  }
 },
 "nbformat": 4,
 "nbformat_minor": 2
}
